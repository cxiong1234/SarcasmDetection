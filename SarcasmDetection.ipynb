{
  "nbformat": 4,
  "nbformat_minor": 0,
  "metadata": {
    "colab": {
      "provenance": [],
      "gpuType": "T4"
    },
    "kernelspec": {
      "name": "python3",
      "display_name": "Python 3"
    },
    "language_info": {
      "name": "python"
    },
    "accelerator": "GPU",
    "widgets": {
      "application/vnd.jupyter.widget-state+json": {
        "4d855733f3a6411088acc3ce58e1da4b": {
          "model_module": "@jupyter-widgets/controls",
          "model_name": "HBoxModel",
          "model_module_version": "1.5.0",
          "state": {
            "_dom_classes": [],
            "_model_module": "@jupyter-widgets/controls",
            "_model_module_version": "1.5.0",
            "_model_name": "HBoxModel",
            "_view_count": null,
            "_view_module": "@jupyter-widgets/controls",
            "_view_module_version": "1.5.0",
            "_view_name": "HBoxView",
            "box_style": "",
            "children": [
              "IPY_MODEL_4df181e1ace344d687d2cfef40c2ad5f",
              "IPY_MODEL_70a560496dc64b3b87527f668689d6cd",
              "IPY_MODEL_13ca95a681a842108edf581bc23afabb"
            ],
            "layout": "IPY_MODEL_657ba2f2b20c40e4a3483003e3ad4d83"
          }
        },
        "4df181e1ace344d687d2cfef40c2ad5f": {
          "model_module": "@jupyter-widgets/controls",
          "model_name": "HTMLModel",
          "model_module_version": "1.5.0",
          "state": {
            "_dom_classes": [],
            "_model_module": "@jupyter-widgets/controls",
            "_model_module_version": "1.5.0",
            "_model_name": "HTMLModel",
            "_view_count": null,
            "_view_module": "@jupyter-widgets/controls",
            "_view_module_version": "1.5.0",
            "_view_name": "HTMLView",
            "description": "",
            "description_tooltip": null,
            "layout": "IPY_MODEL_9f2e410d41304ca19a17f9e674bb1cbf",
            "placeholder": "​",
            "style": "IPY_MODEL_fc0180fc16624cc7bc91e1d7d4a56180",
            "value": "Downloading (…)lve/main/config.json: 100%"
          }
        },
        "70a560496dc64b3b87527f668689d6cd": {
          "model_module": "@jupyter-widgets/controls",
          "model_name": "FloatProgressModel",
          "model_module_version": "1.5.0",
          "state": {
            "_dom_classes": [],
            "_model_module": "@jupyter-widgets/controls",
            "_model_module_version": "1.5.0",
            "_model_name": "FloatProgressModel",
            "_view_count": null,
            "_view_module": "@jupyter-widgets/controls",
            "_view_module_version": "1.5.0",
            "_view_name": "ProgressView",
            "bar_style": "success",
            "description": "",
            "description_tooltip": null,
            "layout": "IPY_MODEL_82c740e09cea4d93a17b6f0d89cc01c1",
            "max": 570,
            "min": 0,
            "orientation": "horizontal",
            "style": "IPY_MODEL_4e78c5b65edb49948b016a49e7e36bf3",
            "value": 570
          }
        },
        "13ca95a681a842108edf581bc23afabb": {
          "model_module": "@jupyter-widgets/controls",
          "model_name": "HTMLModel",
          "model_module_version": "1.5.0",
          "state": {
            "_dom_classes": [],
            "_model_module": "@jupyter-widgets/controls",
            "_model_module_version": "1.5.0",
            "_model_name": "HTMLModel",
            "_view_count": null,
            "_view_module": "@jupyter-widgets/controls",
            "_view_module_version": "1.5.0",
            "_view_name": "HTMLView",
            "description": "",
            "description_tooltip": null,
            "layout": "IPY_MODEL_5f251936b9a547e887e732303e291a73",
            "placeholder": "​",
            "style": "IPY_MODEL_d67ac0f7bf1c43419a2d3b0f53c34578",
            "value": " 570/570 [00:00&lt;00:00, 26.0kB/s]"
          }
        },
        "657ba2f2b20c40e4a3483003e3ad4d83": {
          "model_module": "@jupyter-widgets/base",
          "model_name": "LayoutModel",
          "model_module_version": "1.2.0",
          "state": {
            "_model_module": "@jupyter-widgets/base",
            "_model_module_version": "1.2.0",
            "_model_name": "LayoutModel",
            "_view_count": null,
            "_view_module": "@jupyter-widgets/base",
            "_view_module_version": "1.2.0",
            "_view_name": "LayoutView",
            "align_content": null,
            "align_items": null,
            "align_self": null,
            "border": null,
            "bottom": null,
            "display": null,
            "flex": null,
            "flex_flow": null,
            "grid_area": null,
            "grid_auto_columns": null,
            "grid_auto_flow": null,
            "grid_auto_rows": null,
            "grid_column": null,
            "grid_gap": null,
            "grid_row": null,
            "grid_template_areas": null,
            "grid_template_columns": null,
            "grid_template_rows": null,
            "height": null,
            "justify_content": null,
            "justify_items": null,
            "left": null,
            "margin": null,
            "max_height": null,
            "max_width": null,
            "min_height": null,
            "min_width": null,
            "object_fit": null,
            "object_position": null,
            "order": null,
            "overflow": null,
            "overflow_x": null,
            "overflow_y": null,
            "padding": null,
            "right": null,
            "top": null,
            "visibility": null,
            "width": null
          }
        },
        "9f2e410d41304ca19a17f9e674bb1cbf": {
          "model_module": "@jupyter-widgets/base",
          "model_name": "LayoutModel",
          "model_module_version": "1.2.0",
          "state": {
            "_model_module": "@jupyter-widgets/base",
            "_model_module_version": "1.2.0",
            "_model_name": "LayoutModel",
            "_view_count": null,
            "_view_module": "@jupyter-widgets/base",
            "_view_module_version": "1.2.0",
            "_view_name": "LayoutView",
            "align_content": null,
            "align_items": null,
            "align_self": null,
            "border": null,
            "bottom": null,
            "display": null,
            "flex": null,
            "flex_flow": null,
            "grid_area": null,
            "grid_auto_columns": null,
            "grid_auto_flow": null,
            "grid_auto_rows": null,
            "grid_column": null,
            "grid_gap": null,
            "grid_row": null,
            "grid_template_areas": null,
            "grid_template_columns": null,
            "grid_template_rows": null,
            "height": null,
            "justify_content": null,
            "justify_items": null,
            "left": null,
            "margin": null,
            "max_height": null,
            "max_width": null,
            "min_height": null,
            "min_width": null,
            "object_fit": null,
            "object_position": null,
            "order": null,
            "overflow": null,
            "overflow_x": null,
            "overflow_y": null,
            "padding": null,
            "right": null,
            "top": null,
            "visibility": null,
            "width": null
          }
        },
        "fc0180fc16624cc7bc91e1d7d4a56180": {
          "model_module": "@jupyter-widgets/controls",
          "model_name": "DescriptionStyleModel",
          "model_module_version": "1.5.0",
          "state": {
            "_model_module": "@jupyter-widgets/controls",
            "_model_module_version": "1.5.0",
            "_model_name": "DescriptionStyleModel",
            "_view_count": null,
            "_view_module": "@jupyter-widgets/base",
            "_view_module_version": "1.2.0",
            "_view_name": "StyleView",
            "description_width": ""
          }
        },
        "82c740e09cea4d93a17b6f0d89cc01c1": {
          "model_module": "@jupyter-widgets/base",
          "model_name": "LayoutModel",
          "model_module_version": "1.2.0",
          "state": {
            "_model_module": "@jupyter-widgets/base",
            "_model_module_version": "1.2.0",
            "_model_name": "LayoutModel",
            "_view_count": null,
            "_view_module": "@jupyter-widgets/base",
            "_view_module_version": "1.2.0",
            "_view_name": "LayoutView",
            "align_content": null,
            "align_items": null,
            "align_self": null,
            "border": null,
            "bottom": null,
            "display": null,
            "flex": null,
            "flex_flow": null,
            "grid_area": null,
            "grid_auto_columns": null,
            "grid_auto_flow": null,
            "grid_auto_rows": null,
            "grid_column": null,
            "grid_gap": null,
            "grid_row": null,
            "grid_template_areas": null,
            "grid_template_columns": null,
            "grid_template_rows": null,
            "height": null,
            "justify_content": null,
            "justify_items": null,
            "left": null,
            "margin": null,
            "max_height": null,
            "max_width": null,
            "min_height": null,
            "min_width": null,
            "object_fit": null,
            "object_position": null,
            "order": null,
            "overflow": null,
            "overflow_x": null,
            "overflow_y": null,
            "padding": null,
            "right": null,
            "top": null,
            "visibility": null,
            "width": null
          }
        },
        "4e78c5b65edb49948b016a49e7e36bf3": {
          "model_module": "@jupyter-widgets/controls",
          "model_name": "ProgressStyleModel",
          "model_module_version": "1.5.0",
          "state": {
            "_model_module": "@jupyter-widgets/controls",
            "_model_module_version": "1.5.0",
            "_model_name": "ProgressStyleModel",
            "_view_count": null,
            "_view_module": "@jupyter-widgets/base",
            "_view_module_version": "1.2.0",
            "_view_name": "StyleView",
            "bar_color": null,
            "description_width": ""
          }
        },
        "5f251936b9a547e887e732303e291a73": {
          "model_module": "@jupyter-widgets/base",
          "model_name": "LayoutModel",
          "model_module_version": "1.2.0",
          "state": {
            "_model_module": "@jupyter-widgets/base",
            "_model_module_version": "1.2.0",
            "_model_name": "LayoutModel",
            "_view_count": null,
            "_view_module": "@jupyter-widgets/base",
            "_view_module_version": "1.2.0",
            "_view_name": "LayoutView",
            "align_content": null,
            "align_items": null,
            "align_self": null,
            "border": null,
            "bottom": null,
            "display": null,
            "flex": null,
            "flex_flow": null,
            "grid_area": null,
            "grid_auto_columns": null,
            "grid_auto_flow": null,
            "grid_auto_rows": null,
            "grid_column": null,
            "grid_gap": null,
            "grid_row": null,
            "grid_template_areas": null,
            "grid_template_columns": null,
            "grid_template_rows": null,
            "height": null,
            "justify_content": null,
            "justify_items": null,
            "left": null,
            "margin": null,
            "max_height": null,
            "max_width": null,
            "min_height": null,
            "min_width": null,
            "object_fit": null,
            "object_position": null,
            "order": null,
            "overflow": null,
            "overflow_x": null,
            "overflow_y": null,
            "padding": null,
            "right": null,
            "top": null,
            "visibility": null,
            "width": null
          }
        },
        "d67ac0f7bf1c43419a2d3b0f53c34578": {
          "model_module": "@jupyter-widgets/controls",
          "model_name": "DescriptionStyleModel",
          "model_module_version": "1.5.0",
          "state": {
            "_model_module": "@jupyter-widgets/controls",
            "_model_module_version": "1.5.0",
            "_model_name": "DescriptionStyleModel",
            "_view_count": null,
            "_view_module": "@jupyter-widgets/base",
            "_view_module_version": "1.2.0",
            "_view_name": "StyleView",
            "description_width": ""
          }
        },
        "5ba16812ec26426e8cad8e012a4512ab": {
          "model_module": "@jupyter-widgets/controls",
          "model_name": "HBoxModel",
          "model_module_version": "1.5.0",
          "state": {
            "_dom_classes": [],
            "_model_module": "@jupyter-widgets/controls",
            "_model_module_version": "1.5.0",
            "_model_name": "HBoxModel",
            "_view_count": null,
            "_view_module": "@jupyter-widgets/controls",
            "_view_module_version": "1.5.0",
            "_view_name": "HBoxView",
            "box_style": "",
            "children": [
              "IPY_MODEL_b1f3c8dc121b4187b38797cd91f4cab1",
              "IPY_MODEL_489138a504204512950bab6d8523a4e5",
              "IPY_MODEL_a2af31b23e734d2284aed95aa06856bc"
            ],
            "layout": "IPY_MODEL_a01ef743c3de49bd926e6a2ac8440767"
          }
        },
        "b1f3c8dc121b4187b38797cd91f4cab1": {
          "model_module": "@jupyter-widgets/controls",
          "model_name": "HTMLModel",
          "model_module_version": "1.5.0",
          "state": {
            "_dom_classes": [],
            "_model_module": "@jupyter-widgets/controls",
            "_model_module_version": "1.5.0",
            "_model_name": "HTMLModel",
            "_view_count": null,
            "_view_module": "@jupyter-widgets/controls",
            "_view_module_version": "1.5.0",
            "_view_name": "HTMLView",
            "description": "",
            "description_tooltip": null,
            "layout": "IPY_MODEL_43efaee235d14cf186ace0fe952aef4f",
            "placeholder": "​",
            "style": "IPY_MODEL_310fef8bc56748719d8a5b1ecbb65140",
            "value": "Downloading model.safetensors: 100%"
          }
        },
        "489138a504204512950bab6d8523a4e5": {
          "model_module": "@jupyter-widgets/controls",
          "model_name": "FloatProgressModel",
          "model_module_version": "1.5.0",
          "state": {
            "_dom_classes": [],
            "_model_module": "@jupyter-widgets/controls",
            "_model_module_version": "1.5.0",
            "_model_name": "FloatProgressModel",
            "_view_count": null,
            "_view_module": "@jupyter-widgets/controls",
            "_view_module_version": "1.5.0",
            "_view_name": "ProgressView",
            "bar_style": "success",
            "description": "",
            "description_tooltip": null,
            "layout": "IPY_MODEL_011b4699591a40208dd600c456409320",
            "max": 440449768,
            "min": 0,
            "orientation": "horizontal",
            "style": "IPY_MODEL_4da2f278005d4541a0b70797d04c6339",
            "value": 440449768
          }
        },
        "a2af31b23e734d2284aed95aa06856bc": {
          "model_module": "@jupyter-widgets/controls",
          "model_name": "HTMLModel",
          "model_module_version": "1.5.0",
          "state": {
            "_dom_classes": [],
            "_model_module": "@jupyter-widgets/controls",
            "_model_module_version": "1.5.0",
            "_model_name": "HTMLModel",
            "_view_count": null,
            "_view_module": "@jupyter-widgets/controls",
            "_view_module_version": "1.5.0",
            "_view_name": "HTMLView",
            "description": "",
            "description_tooltip": null,
            "layout": "IPY_MODEL_4c5382cc17b9446d9d6779badcc85549",
            "placeholder": "​",
            "style": "IPY_MODEL_6fcf177a93304d92a47ecf02da4787c3",
            "value": " 440M/440M [00:05&lt;00:00, 76.9MB/s]"
          }
        },
        "a01ef743c3de49bd926e6a2ac8440767": {
          "model_module": "@jupyter-widgets/base",
          "model_name": "LayoutModel",
          "model_module_version": "1.2.0",
          "state": {
            "_model_module": "@jupyter-widgets/base",
            "_model_module_version": "1.2.0",
            "_model_name": "LayoutModel",
            "_view_count": null,
            "_view_module": "@jupyter-widgets/base",
            "_view_module_version": "1.2.0",
            "_view_name": "LayoutView",
            "align_content": null,
            "align_items": null,
            "align_self": null,
            "border": null,
            "bottom": null,
            "display": null,
            "flex": null,
            "flex_flow": null,
            "grid_area": null,
            "grid_auto_columns": null,
            "grid_auto_flow": null,
            "grid_auto_rows": null,
            "grid_column": null,
            "grid_gap": null,
            "grid_row": null,
            "grid_template_areas": null,
            "grid_template_columns": null,
            "grid_template_rows": null,
            "height": null,
            "justify_content": null,
            "justify_items": null,
            "left": null,
            "margin": null,
            "max_height": null,
            "max_width": null,
            "min_height": null,
            "min_width": null,
            "object_fit": null,
            "object_position": null,
            "order": null,
            "overflow": null,
            "overflow_x": null,
            "overflow_y": null,
            "padding": null,
            "right": null,
            "top": null,
            "visibility": null,
            "width": null
          }
        },
        "43efaee235d14cf186ace0fe952aef4f": {
          "model_module": "@jupyter-widgets/base",
          "model_name": "LayoutModel",
          "model_module_version": "1.2.0",
          "state": {
            "_model_module": "@jupyter-widgets/base",
            "_model_module_version": "1.2.0",
            "_model_name": "LayoutModel",
            "_view_count": null,
            "_view_module": "@jupyter-widgets/base",
            "_view_module_version": "1.2.0",
            "_view_name": "LayoutView",
            "align_content": null,
            "align_items": null,
            "align_self": null,
            "border": null,
            "bottom": null,
            "display": null,
            "flex": null,
            "flex_flow": null,
            "grid_area": null,
            "grid_auto_columns": null,
            "grid_auto_flow": null,
            "grid_auto_rows": null,
            "grid_column": null,
            "grid_gap": null,
            "grid_row": null,
            "grid_template_areas": null,
            "grid_template_columns": null,
            "grid_template_rows": null,
            "height": null,
            "justify_content": null,
            "justify_items": null,
            "left": null,
            "margin": null,
            "max_height": null,
            "max_width": null,
            "min_height": null,
            "min_width": null,
            "object_fit": null,
            "object_position": null,
            "order": null,
            "overflow": null,
            "overflow_x": null,
            "overflow_y": null,
            "padding": null,
            "right": null,
            "top": null,
            "visibility": null,
            "width": null
          }
        },
        "310fef8bc56748719d8a5b1ecbb65140": {
          "model_module": "@jupyter-widgets/controls",
          "model_name": "DescriptionStyleModel",
          "model_module_version": "1.5.0",
          "state": {
            "_model_module": "@jupyter-widgets/controls",
            "_model_module_version": "1.5.0",
            "_model_name": "DescriptionStyleModel",
            "_view_count": null,
            "_view_module": "@jupyter-widgets/base",
            "_view_module_version": "1.2.0",
            "_view_name": "StyleView",
            "description_width": ""
          }
        },
        "011b4699591a40208dd600c456409320": {
          "model_module": "@jupyter-widgets/base",
          "model_name": "LayoutModel",
          "model_module_version": "1.2.0",
          "state": {
            "_model_module": "@jupyter-widgets/base",
            "_model_module_version": "1.2.0",
            "_model_name": "LayoutModel",
            "_view_count": null,
            "_view_module": "@jupyter-widgets/base",
            "_view_module_version": "1.2.0",
            "_view_name": "LayoutView",
            "align_content": null,
            "align_items": null,
            "align_self": null,
            "border": null,
            "bottom": null,
            "display": null,
            "flex": null,
            "flex_flow": null,
            "grid_area": null,
            "grid_auto_columns": null,
            "grid_auto_flow": null,
            "grid_auto_rows": null,
            "grid_column": null,
            "grid_gap": null,
            "grid_row": null,
            "grid_template_areas": null,
            "grid_template_columns": null,
            "grid_template_rows": null,
            "height": null,
            "justify_content": null,
            "justify_items": null,
            "left": null,
            "margin": null,
            "max_height": null,
            "max_width": null,
            "min_height": null,
            "min_width": null,
            "object_fit": null,
            "object_position": null,
            "order": null,
            "overflow": null,
            "overflow_x": null,
            "overflow_y": null,
            "padding": null,
            "right": null,
            "top": null,
            "visibility": null,
            "width": null
          }
        },
        "4da2f278005d4541a0b70797d04c6339": {
          "model_module": "@jupyter-widgets/controls",
          "model_name": "ProgressStyleModel",
          "model_module_version": "1.5.0",
          "state": {
            "_model_module": "@jupyter-widgets/controls",
            "_model_module_version": "1.5.0",
            "_model_name": "ProgressStyleModel",
            "_view_count": null,
            "_view_module": "@jupyter-widgets/base",
            "_view_module_version": "1.2.0",
            "_view_name": "StyleView",
            "bar_color": null,
            "description_width": ""
          }
        },
        "4c5382cc17b9446d9d6779badcc85549": {
          "model_module": "@jupyter-widgets/base",
          "model_name": "LayoutModel",
          "model_module_version": "1.2.0",
          "state": {
            "_model_module": "@jupyter-widgets/base",
            "_model_module_version": "1.2.0",
            "_model_name": "LayoutModel",
            "_view_count": null,
            "_view_module": "@jupyter-widgets/base",
            "_view_module_version": "1.2.0",
            "_view_name": "LayoutView",
            "align_content": null,
            "align_items": null,
            "align_self": null,
            "border": null,
            "bottom": null,
            "display": null,
            "flex": null,
            "flex_flow": null,
            "grid_area": null,
            "grid_auto_columns": null,
            "grid_auto_flow": null,
            "grid_auto_rows": null,
            "grid_column": null,
            "grid_gap": null,
            "grid_row": null,
            "grid_template_areas": null,
            "grid_template_columns": null,
            "grid_template_rows": null,
            "height": null,
            "justify_content": null,
            "justify_items": null,
            "left": null,
            "margin": null,
            "max_height": null,
            "max_width": null,
            "min_height": null,
            "min_width": null,
            "object_fit": null,
            "object_position": null,
            "order": null,
            "overflow": null,
            "overflow_x": null,
            "overflow_y": null,
            "padding": null,
            "right": null,
            "top": null,
            "visibility": null,
            "width": null
          }
        },
        "6fcf177a93304d92a47ecf02da4787c3": {
          "model_module": "@jupyter-widgets/controls",
          "model_name": "DescriptionStyleModel",
          "model_module_version": "1.5.0",
          "state": {
            "_model_module": "@jupyter-widgets/controls",
            "_model_module_version": "1.5.0",
            "_model_name": "DescriptionStyleModel",
            "_view_count": null,
            "_view_module": "@jupyter-widgets/base",
            "_view_module_version": "1.2.0",
            "_view_name": "StyleView",
            "description_width": ""
          }
        }
      }
    }
  },
  "cells": [
    {
      "cell_type": "markdown",
      "source": [
        "#Sentiment analysis: NLP Sarcasm Detection\n",
        "In this work, we designed the Bidirectional Long Short Term memory (LSTM) networks model to predic whether there exits sarcasm in the News healines. Our designed model has comparable validation accruacy as the Fine-tune BERT model but has much faster training speed (30x)."
      ],
      "metadata": {
        "id": "KNPIGKl_KjYj"
      }
    },
    {
      "cell_type": "code",
      "source": [
        "###Get the data online\n",
        "!wget --no-check-certificate https://storage.googleapis.com/learning-datasets/sarcasm.json -O /tmp/alldata.json"
      ],
      "metadata": {
        "colab": {
          "base_uri": "https://localhost:8080/"
        },
        "id": "UcENrnN-KVPb",
        "outputId": "55130fb0-4695-4314-f9ac-33079abab35b"
      },
      "execution_count": 18,
      "outputs": [
        {
          "output_type": "stream",
          "name": "stdout",
          "text": [
            "--2023-08-31 05:16:32--  https://storage.googleapis.com/learning-datasets/sarcasm.json\n",
            "Resolving storage.googleapis.com (storage.googleapis.com)... 74.125.203.128, 74.125.204.128, 64.233.187.128, ...\n",
            "Connecting to storage.googleapis.com (storage.googleapis.com)|74.125.203.128|:443... connected.\n",
            "HTTP request sent, awaiting response... 200 OK\n",
            "Length: 5643545 (5.4M) [application/json]\n",
            "Saving to: ‘/tmp/alldata.json’\n",
            "\n",
            "/tmp/alldata.json   100%[===================>]   5.38M  6.85MB/s    in 0.8s    \n",
            "\n",
            "2023-08-31 05:16:33 (6.85 MB/s) - ‘/tmp/alldata.json’ saved [5643545/5643545]\n",
            "\n"
          ]
        }
      ]
    },
    {
      "cell_type": "code",
      "source": [
        "import json\n",
        "import tensorflow as tf"
      ],
      "metadata": {
        "id": "P11ag3Q3KWrq"
      },
      "execution_count": 21,
      "outputs": []
    },
    {
      "cell_type": "code",
      "source": [
        "with open(\"/tmp/alldata.json\", 'r') as f:\n",
        "    alldata = json.load(f)\n",
        "\n",
        "headline_list = []\n",
        "label_list = []\n",
        "for i in alldata:\n",
        "    headline_list.append(i['headline'])\n",
        "    label_list.append(i['is_sarcastic'])\n",
        "\n",
        "import numpy as np\n",
        "#change the list to numpy list, easier for action in these lists.\n",
        "headline_nplist= np.array(headline_list)\n",
        "label_nplist = np.array(label_list)"
      ],
      "metadata": {
        "id": "sELgKkEuKW1F"
      },
      "execution_count": 22,
      "outputs": []
    },
    {
      "cell_type": "code",
      "source": [
        "# Pretreatment of the data\n",
        "from tensorflow.keras.preprocessing.text import Tokenizer\n",
        "from tensorflow.keras.preprocessing.sequence import pad_sequences\n",
        "\n",
        "## Shuffle the data and split the training and testing data according to the user defined ratio\n",
        "def pretreat_and_token_data_withpad(headline_nplist, label_nplist, train_ratio=0.8):\n",
        "    num_sample = len(headline_nplist)\n",
        "    train_size = int(train_ratio * num_sample)\n",
        "    #test_size = num_sample - train_size\n",
        "\n",
        "    ##shuffle the list data\n",
        "    shuffle_idx = np.random.permutation(len(headline_nplist))\n",
        "    headline_nplist = headline_nplist[shuffle_idx]\n",
        "    label_nplist = label_nplist[shuffle_idx]\n",
        "\n",
        "    train_headline_nplist = headline_nplist[:train_size]\n",
        "    test_headline_nplist = headline_nplist[train_size:]\n",
        "    train_label_nplist = label_nplist[:train_size]\n",
        "    test_label_nplist = label_nplist[train_size:]\n",
        "\n",
        "    #train_max_length = max(len(seq) for seq in train_headline_nplist)\n",
        "    #test_max_length = max(len(seq) for seq in test_headline_nplist)\n",
        "    #max_length = max(train_max_length, test_max_length)\n",
        "\n",
        "    max_length = 40 ## I didn't quantify the max length, use the max headline in the dataset instead.\n",
        "    ##Tokenize the headline\n",
        "    tokenizer = Tokenizer(oov_token=\"*****\")\n",
        "    tokenizer.fit_on_texts(train_headline_nplist)\n",
        "\n",
        "    ##train data\n",
        "    train_sequences_list = tokenizer.texts_to_sequences(train_headline_nplist)\n",
        "    train_padded_sequences_list = pad_sequences(train_sequences_list)\n",
        "\n",
        "    ##test data\n",
        "    test_sequences_list = tokenizer.texts_to_sequences(test_headline_nplist)\n",
        "    test_padded_sequences_list = pad_sequences(test_sequences_list, maxlen=max_length)\n",
        "    return train_padded_sequences_list, train_label_nplist, test_padded_sequences_list, test_label_nplist, tokenizer, max_length\n",
        "\n",
        "train_padded_sequences_list, train_label_nplist, test_padded_sequences_list, test_label_nplist, tokenizer, max_length = pretreat_and_token_data_withpad(headline_nplist, label_nplist, train_ratio=0.8)\n",
        "print(train_padded_sequences_list.shape)\n",
        "print(train_label_nplist.shape)"
      ],
      "metadata": {
        "colab": {
          "base_uri": "https://localhost:8080/"
        },
        "id": "Iq60ETaqKW9R",
        "outputId": "4627afb2-f9ae-4769-f788-c406a042b521"
      },
      "execution_count": 23,
      "outputs": [
        {
          "output_type": "stream",
          "name": "stdout",
          "text": [
            "(21367, 40)\n",
            "(21367,)\n"
          ]
        }
      ]
    },
    {
      "cell_type": "code",
      "source": [
        "### Set up for the BERT model"
      ],
      "metadata": {
        "id": "TnRAoD2iMQ5U"
      },
      "execution_count": null,
      "outputs": []
    },
    {
      "cell_type": "code",
      "execution_count": 7,
      "metadata": {
        "id": "GtOR0Us-Mpa4"
      },
      "outputs": [],
      "source": [
        "import tensorflow as tf"
      ]
    },
    {
      "cell_type": "code",
      "source": [
        "!pip install transformers\n",
        "from transformers import TFBertForSequenceClassification"
      ],
      "metadata": {
        "colab": {
          "base_uri": "https://localhost:8080/"
        },
        "id": "MLAf-azmMqC8",
        "outputId": "84deebbb-15be-4b5f-8d5a-9c8c7490712c"
      },
      "execution_count": 24,
      "outputs": [
        {
          "output_type": "stream",
          "name": "stdout",
          "text": [
            "Collecting transformers\n",
            "  Downloading transformers-4.32.1-py3-none-any.whl (7.5 MB)\n",
            "\u001b[2K     \u001b[90m━━━━━━━━━━━━━━━━━━━━━━━━━━━━━━━━━━━━━━━━\u001b[0m \u001b[32m7.5/7.5 MB\u001b[0m \u001b[31m17.3 MB/s\u001b[0m eta \u001b[36m0:00:00\u001b[0m\n",
            "\u001b[?25hRequirement already satisfied: filelock in /usr/local/lib/python3.10/dist-packages (from transformers) (3.12.2)\n",
            "Collecting huggingface-hub<1.0,>=0.15.1 (from transformers)\n",
            "  Downloading huggingface_hub-0.16.4-py3-none-any.whl (268 kB)\n",
            "\u001b[2K     \u001b[90m━━━━━━━━━━━━━━━━━━━━━━━━━━━━━━━━━━━━━━\u001b[0m \u001b[32m268.8/268.8 kB\u001b[0m \u001b[31m25.9 MB/s\u001b[0m eta \u001b[36m0:00:00\u001b[0m\n",
            "\u001b[?25hRequirement already satisfied: numpy>=1.17 in /usr/local/lib/python3.10/dist-packages (from transformers) (1.23.5)\n",
            "Requirement already satisfied: packaging>=20.0 in /usr/local/lib/python3.10/dist-packages (from transformers) (23.1)\n",
            "Requirement already satisfied: pyyaml>=5.1 in /usr/local/lib/python3.10/dist-packages (from transformers) (6.0.1)\n",
            "Requirement already satisfied: regex!=2019.12.17 in /usr/local/lib/python3.10/dist-packages (from transformers) (2023.6.3)\n",
            "Requirement already satisfied: requests in /usr/local/lib/python3.10/dist-packages (from transformers) (2.31.0)\n",
            "Collecting tokenizers!=0.11.3,<0.14,>=0.11.1 (from transformers)\n",
            "  Downloading tokenizers-0.13.3-cp310-cp310-manylinux_2_17_x86_64.manylinux2014_x86_64.whl (7.8 MB)\n",
            "\u001b[2K     \u001b[90m━━━━━━━━━━━━━━━━━━━━━━━━━━━━━━━━━━━━━━━━\u001b[0m \u001b[32m7.8/7.8 MB\u001b[0m \u001b[31m39.9 MB/s\u001b[0m eta \u001b[36m0:00:00\u001b[0m\n",
            "\u001b[?25hCollecting safetensors>=0.3.1 (from transformers)\n",
            "  Downloading safetensors-0.3.3-cp310-cp310-manylinux_2_17_x86_64.manylinux2014_x86_64.whl (1.3 MB)\n",
            "\u001b[2K     \u001b[90m━━━━━━━━━━━━━━━━━━━━━━━━━━━━━━━━━━━━━━━━\u001b[0m \u001b[32m1.3/1.3 MB\u001b[0m \u001b[31m44.5 MB/s\u001b[0m eta \u001b[36m0:00:00\u001b[0m\n",
            "\u001b[?25hRequirement already satisfied: tqdm>=4.27 in /usr/local/lib/python3.10/dist-packages (from transformers) (4.66.1)\n",
            "Requirement already satisfied: fsspec in /usr/local/lib/python3.10/dist-packages (from huggingface-hub<1.0,>=0.15.1->transformers) (2023.6.0)\n",
            "Requirement already satisfied: typing-extensions>=3.7.4.3 in /usr/local/lib/python3.10/dist-packages (from huggingface-hub<1.0,>=0.15.1->transformers) (4.7.1)\n",
            "Requirement already satisfied: charset-normalizer<4,>=2 in /usr/local/lib/python3.10/dist-packages (from requests->transformers) (3.2.0)\n",
            "Requirement already satisfied: idna<4,>=2.5 in /usr/local/lib/python3.10/dist-packages (from requests->transformers) (3.4)\n",
            "Requirement already satisfied: urllib3<3,>=1.21.1 in /usr/local/lib/python3.10/dist-packages (from requests->transformers) (2.0.4)\n",
            "Requirement already satisfied: certifi>=2017.4.17 in /usr/local/lib/python3.10/dist-packages (from requests->transformers) (2023.7.22)\n",
            "Installing collected packages: tokenizers, safetensors, huggingface-hub, transformers\n",
            "Successfully installed huggingface-hub-0.16.4 safetensors-0.3.3 tokenizers-0.13.3 transformers-4.32.1\n"
          ]
        }
      ]
    },
    {
      "cell_type": "code",
      "source": [
        "model = TFBertForSequenceClassification.from_pretrained('bert-base-uncased', num_labels=2)"
      ],
      "metadata": {
        "colab": {
          "base_uri": "https://localhost:8080/",
          "height": 170,
          "referenced_widgets": [
            "4d855733f3a6411088acc3ce58e1da4b",
            "4df181e1ace344d687d2cfef40c2ad5f",
            "70a560496dc64b3b87527f668689d6cd",
            "13ca95a681a842108edf581bc23afabb",
            "657ba2f2b20c40e4a3483003e3ad4d83",
            "9f2e410d41304ca19a17f9e674bb1cbf",
            "fc0180fc16624cc7bc91e1d7d4a56180",
            "82c740e09cea4d93a17b6f0d89cc01c1",
            "4e78c5b65edb49948b016a49e7e36bf3",
            "5f251936b9a547e887e732303e291a73",
            "d67ac0f7bf1c43419a2d3b0f53c34578",
            "5ba16812ec26426e8cad8e012a4512ab",
            "b1f3c8dc121b4187b38797cd91f4cab1",
            "489138a504204512950bab6d8523a4e5",
            "a2af31b23e734d2284aed95aa06856bc",
            "a01ef743c3de49bd926e6a2ac8440767",
            "43efaee235d14cf186ace0fe952aef4f",
            "310fef8bc56748719d8a5b1ecbb65140",
            "011b4699591a40208dd600c456409320",
            "4da2f278005d4541a0b70797d04c6339",
            "4c5382cc17b9446d9d6779badcc85549",
            "6fcf177a93304d92a47ecf02da4787c3"
          ]
        },
        "id": "dl3J22NhNExE",
        "outputId": "3411566c-ad87-41de-fb9f-1e63a896ef80"
      },
      "execution_count": 25,
      "outputs": [
        {
          "output_type": "display_data",
          "data": {
            "text/plain": [
              "Downloading (…)lve/main/config.json:   0%|          | 0.00/570 [00:00<?, ?B/s]"
            ],
            "application/vnd.jupyter.widget-view+json": {
              "version_major": 2,
              "version_minor": 0,
              "model_id": "4d855733f3a6411088acc3ce58e1da4b"
            }
          },
          "metadata": {}
        },
        {
          "output_type": "display_data",
          "data": {
            "text/plain": [
              "Downloading model.safetensors:   0%|          | 0.00/440M [00:00<?, ?B/s]"
            ],
            "application/vnd.jupyter.widget-view+json": {
              "version_major": 2,
              "version_minor": 0,
              "model_id": "5ba16812ec26426e8cad8e012a4512ab"
            }
          },
          "metadata": {}
        },
        {
          "output_type": "stream",
          "name": "stderr",
          "text": [
            "All PyTorch model weights were used when initializing TFBertForSequenceClassification.\n",
            "\n",
            "Some weights or buffers of the TF 2.0 model TFBertForSequenceClassification were not initialized from the PyTorch model and are newly initialized: ['classifier.weight', 'classifier.bias']\n",
            "You should probably TRAIN this model on a down-stream task to be able to use it for predictions and inference.\n"
          ]
        }
      ]
    },
    {
      "cell_type": "code",
      "source": [
        "from tensorflow.keras.optimizers import Adam\n",
        "\n",
        "bert_model = TFBertForSequenceClassification.from_pretrained(\"bert-base-uncased\")\n",
        "\n",
        "# Compile the model\n",
        "optimizer = tf.keras.optimizers.Adam(learning_rate=2e-5)\n",
        "loss = tf.keras.losses.SparseCategoricalCrossentropy(from_logits=True)\n",
        "metrics = [tf.keras.metrics.SparseCategoricalAccuracy(\"accuracy\")]\n",
        "bert_model.compile(optimizer=optimizer, loss=loss, metrics=metrics)\n",
        "#model.compile(loss='binary_crossentropy', optimizer=Adam(learning_rate=2e-5), metrics=['accuracy'])\n",
        "\n",
        "# Define EarlyStopping callback\n",
        "earlyStop = EarlyStopping(monitor=\"val_accuracy\", patience=5, restore_best_weights=True)\n",
        "\n",
        "# Specify other training parameters\n",
        "num_epochs = 10\n",
        "batch_size = 32\n",
        "\n",
        "# Fit the model\n",
        "history = bert_model.fit(\n",
        "    train_padded_sequences_list,\n",
        "    train_label_nplist,\n",
        "    validation_data=(test_padded_sequences_list, test_label_nplist),\n",
        "    epochs=num_epochs,\n",
        "    batch_size=batch_size,\n",
        "    callbacks=[earlyStop]\n",
        ")\n"
      ],
      "metadata": {
        "colab": {
          "base_uri": "https://localhost:8080/"
        },
        "id": "OgQMVwTtNfCY",
        "outputId": "a2b88494-6392-4e4f-e549-e4aa7a8e841a"
      },
      "execution_count": 27,
      "outputs": [
        {
          "output_type": "stream",
          "name": "stderr",
          "text": [
            "All PyTorch model weights were used when initializing TFBertForSequenceClassification.\n",
            "\n",
            "Some weights or buffers of the TF 2.0 model TFBertForSequenceClassification were not initialized from the PyTorch model and are newly initialized: ['classifier.weight', 'classifier.bias']\n",
            "You should probably TRAIN this model on a down-stream task to be able to use it for predictions and inference.\n"
          ]
        },
        {
          "output_type": "stream",
          "name": "stdout",
          "text": [
            "Epoch 1/10\n",
            "668/668 [==============================] - 264s 313ms/step - loss: 0.6889 - accuracy: 0.5535 - val_loss: 0.6833 - val_accuracy: 0.5640\n",
            "Epoch 2/10\n",
            "668/668 [==============================] - 201s 301ms/step - loss: 0.5897 - accuracy: 0.6646 - val_loss: 0.4584 - val_accuracy: 0.7963\n",
            "Epoch 3/10\n",
            "668/668 [==============================] - 198s 296ms/step - loss: 0.3710 - accuracy: 0.8427 - val_loss: 0.3788 - val_accuracy: 0.8375\n",
            "Epoch 4/10\n",
            "668/668 [==============================] - 203s 304ms/step - loss: 0.2604 - accuracy: 0.8954 - val_loss: 0.3473 - val_accuracy: 0.8521\n",
            "Epoch 5/10\n",
            "668/668 [==============================] - 203s 303ms/step - loss: 0.1824 - accuracy: 0.9342 - val_loss: 0.4569 - val_accuracy: 0.8416\n",
            "Epoch 6/10\n",
            "668/668 [==============================] - 202s 303ms/step - loss: 0.1224 - accuracy: 0.9584 - val_loss: 0.4614 - val_accuracy: 0.8508\n",
            "Epoch 7/10\n",
            "668/668 [==============================] - 202s 303ms/step - loss: 0.0860 - accuracy: 0.9724 - val_loss: 0.5529 - val_accuracy: 0.8456\n",
            "Epoch 8/10\n",
            "668/668 [==============================] - 199s 297ms/step - loss: 0.0656 - accuracy: 0.9781 - val_loss: 0.5569 - val_accuracy: 0.8428\n",
            "Epoch 9/10\n",
            "668/668 [==============================] - 202s 303ms/step - loss: 0.0504 - accuracy: 0.9850 - val_loss: 0.5869 - val_accuracy: 0.8450\n"
          ]
        }
      ]
    },
    {
      "cell_type": "code",
      "source": [
        "import matplotlib.pyplot as plt\n",
        "train_accuracy = history.history['accuracy']\n",
        "test_accuracy = history.history['val_accuracy']\n",
        "\n",
        "plt.plot(range(1,len(train_accuracy)+1), train_accuracy, label='Train Accuracy')\n",
        "plt.plot(range(1,len(train_accuracy)+1), test_accuracy, label='Test Accuracy')\n",
        "plt.xlabel('Epoch')\n",
        "plt.ylabel('Accuracy')\n",
        "plt.title('Training and Testing Accuracy')\n",
        "plt.legend()\n",
        "plt.grid(True)\n",
        "plt.show()"
      ],
      "metadata": {
        "colab": {
          "base_uri": "https://localhost:8080/",
          "height": 559
        },
        "id": "F4l86onsJp-q",
        "outputId": "4757bfc2-7bcd-4c09-86bc-9fc2ecee47b1"
      },
      "execution_count": 28,
      "outputs": [
        {
          "output_type": "stream",
          "name": "stderr",
          "text": [
            "Exception ignored in: <function _xla_gc_callback at 0x7fcfec239a20>\n",
            "Traceback (most recent call last):\n",
            "  File \"/usr/local/lib/python3.10/dist-packages/jax/_src/lib/__init__.py\", line 98, in _xla_gc_callback\n",
            "    def _xla_gc_callback(*args):\n",
            "KeyboardInterrupt: \n"
          ]
        },
        {
          "output_type": "display_data",
          "data": {
            "text/plain": [
              "<Figure size 640x480 with 1 Axes>"
            ],
            "image/png": "[encoded data removed]"
          },
          "metadata": {}
        }
      ]
    },
    {
      "cell_type": "markdown",
      "source": [],
      "metadata": {
        "id": "FvfG0P3lKiHY"
      }
    },
    {
      "cell_type": "markdown",
      "source": [
        "Using the bidirectional Long Short Term Memory (LSTM) model"
      ],
      "metadata": {
        "id": "QqVD4MLQ1p7h"
      }
    },
    {
      "cell_type": "code",
      "source": [
        "from tensorflow.keras.models import Sequential\n",
        "from tensorflow.keras.layers import Embedding, LSTM, Dense, Dropout, Bidirectional\n",
        "from tensorflow.keras.optimizers import Adam\n",
        "from tensorflow.keras.regularizers import l2\n",
        "\n",
        "vocab_size = len(tokenizer.word_index) + 1\n",
        "embedding_dim = 100\n",
        "model = Sequential([\n",
        "    Embedding(vocab_size, embedding_dim, input_length=max_length),\n",
        "    Bidirectional(LSTM(64, return_sequences=True, kernel_regularizer=l2(0.01))),\n",
        "    Dropout(0.5),\n",
        "    Bidirectional(LSTM(64, kernel_regularizer=l2(0.01))),\n",
        "    Dense(24, activation='relu'),\n",
        "    Dense(1, activation='sigmoid')\n",
        "])\n",
        "\n",
        "# Compile model\n",
        "model.compile(loss='binary_crossentropy', optimizer=Adam(learning_rate=0.01), metrics=['accuracy'])"
      ],
      "metadata": {
        "id": "scoeSBOh2awn"
      },
      "execution_count": 14,
      "outputs": []
    },
    {
      "cell_type": "code",
      "source": [
        "from tensorflow.keras.callbacks import EarlyStopping\n",
        "earlyStop = EarlyStopping(monitor = 'val_accuracy', patience=5, restore_best_weights=True)\n",
        "\n",
        "num_epochs = 30\n",
        "batch_size = 100\n",
        "history = model.fit(train_padded_sequences_list, train_label_nplist, validation_data=(test_padded_sequences_list, test_label_nplist), epochs=num_epochs, batch_size=batch_size, callbacks=[earlyStop])\n"
      ],
      "metadata": {
        "colab": {
          "base_uri": "https://localhost:8080/"
        },
        "id": "yMq9rtKy-VFQ",
        "outputId": "2ec35dea-8691-4d10-af3c-346443510396"
      },
      "execution_count": 15,
      "outputs": [
        {
          "output_type": "stream",
          "name": "stdout",
          "text": [
            "Epoch 1/30\n",
            "214/214 [==============================] - 31s 106ms/step - loss: 0.7028 - accuracy: 0.7374 - val_loss: 0.4208 - val_accuracy: 0.8429\n",
            "Epoch 2/30\n",
            "214/214 [==============================] - 7s 32ms/step - loss: 0.4145 - accuracy: 0.8955 - val_loss: 1.2705 - val_accuracy: 0.7868\n",
            "Epoch 3/30\n",
            "214/214 [==============================] - 5s 25ms/step - loss: 0.2599 - accuracy: 0.9500 - val_loss: 0.4815 - val_accuracy: 0.8422\n",
            "Epoch 4/30\n",
            "214/214 [==============================] - 6s 26ms/step - loss: 0.1041 - accuracy: 0.9760 - val_loss: 0.5775 - val_accuracy: 0.8379\n",
            "Epoch 5/30\n",
            "214/214 [==============================] - 4s 17ms/step - loss: 0.0829 - accuracy: 0.9840 - val_loss: 0.5801 - val_accuracy: 0.8409\n",
            "Epoch 6/30\n",
            "214/214 [==============================] - 3s 16ms/step - loss: 0.0874 - accuracy: 0.9854 - val_loss: 0.7384 - val_accuracy: 0.8285\n"
          ]
        }
      ]
    },
    {
      "cell_type": "code",
      "source": [
        "import matplotlib.pyplot as plt\n",
        "train_accuracy = history.history['accuracy']\n",
        "test_accuracy = history.history['val_accuracy']\n",
        "\n",
        "plt.plot(range(1,len(train_accuracy)+1), train_accuracy, label='Train Accuracy')\n",
        "plt.plot(range(1,len(train_accuracy)+1), test_accuracy, label='Test Accuracy')\n",
        "plt.xlabel('Epoch')\n",
        "plt.ylabel('Accuracy')\n",
        "plt.title('Training and Testing Accuracy')\n",
        "plt.legend()\n",
        "plt.grid(True)\n",
        "plt.show()"
      ],
      "metadata": {
        "colab": {
          "base_uri": "https://localhost:8080/",
          "height": 472
        },
        "id": "ndIzL9K7_KLj",
        "outputId": "c5072bb7-1770-48f8-cc20-4102c7af4514"
      },
      "execution_count": 17,
      "outputs": [
        {
          "output_type": "display_data",
          "data": {
            "text/plain": [
              "<Figure size 640x480 with 1 Axes>"
            ],
            "image/png": "[encoded data removed]"
          },
          "metadata": {}
        }
      ]
    },
    {
      "cell_type": "code",
      "source": [],
      "metadata": {
        "id": "Lej8cS8BBSCx"
      },
      "execution_count": null,
      "outputs": []
    }
  ]
}